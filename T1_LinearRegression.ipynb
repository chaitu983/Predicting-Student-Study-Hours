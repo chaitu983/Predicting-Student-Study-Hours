{
  "nbformat": 4,
  "nbformat_minor": 0,
  "metadata": {
    "colab": {
      "name": "T1_LinearRegression.ipynb",
      "provenance": [],
      "collapsed_sections": []
    },
    "kernelspec": {
      "name": "python3",
      "display_name": "Python 3"
    },
    "language_info": {
      "name": "python"
    }
  },
  "cells": [
    {
      "cell_type": "markdown",
      "metadata": {
        "id": "L9R9VBklIoIE"
      },
      "source": [
        "**THE SPARKS FOUNDATION : GRADUATE ROTATIONAL INTERNSHIP PROGRAM           #GRIPMAY2021**\n",
        "\n",
        "**Domain : Data Science and Business Analytics**\n",
        "\n",
        "**Task -1 : To predict the percentage of a student based on number of hours studying using Supervised Machine Learning**\n",
        "\n",
        "**Author :  CHAITANYA Barla**"
      ]
    },
    {
      "cell_type": "code",
      "metadata": {
        "id": "Dwg9pGliX1vX"
      },
      "source": [
        "#Importing the required libraries\n",
        "import pandas as pd\n",
        "import numpy as np\n",
        "import matplotlib.pyplot as plt"
      ],
      "execution_count": null,
      "outputs": []
    },
    {
      "cell_type": "code",
      "metadata": {
        "colab": {
          "base_uri": "https://localhost:8080/",
          "height": 222
        },
        "id": "b5ynwwhEaovr",
        "outputId": "94676492-3265-4ee2-a6a3-5bbdf6502b6f"
      },
      "source": [
        "#Reading the data\n",
        "data = pd.read_csv(\"http://bit.ly/w-data\")\n",
        "print(data. shape)\n",
        "data.head()"
      ],
      "execution_count": null,
      "outputs": [
        {
          "output_type": "stream",
          "text": [
            "(25, 2)\n"
          ],
          "name": "stdout"
        },
        {
          "output_type": "execute_result",
          "data": {
            "text/html": [
              "<div>\n",
              "<style scoped>\n",
              "    .dataframe tbody tr th:only-of-type {\n",
              "        vertical-align: middle;\n",
              "    }\n",
              "\n",
              "    .dataframe tbody tr th {\n",
              "        vertical-align: top;\n",
              "    }\n",
              "\n",
              "    .dataframe thead th {\n",
              "        text-align: right;\n",
              "    }\n",
              "</style>\n",
              "<table border=\"1\" class=\"dataframe\">\n",
              "  <thead>\n",
              "    <tr style=\"text-align: right;\">\n",
              "      <th></th>\n",
              "      <th>Hours</th>\n",
              "      <th>Scores</th>\n",
              "    </tr>\n",
              "  </thead>\n",
              "  <tbody>\n",
              "    <tr>\n",
              "      <th>0</th>\n",
              "      <td>2.5</td>\n",
              "      <td>21</td>\n",
              "    </tr>\n",
              "    <tr>\n",
              "      <th>1</th>\n",
              "      <td>5.1</td>\n",
              "      <td>47</td>\n",
              "    </tr>\n",
              "    <tr>\n",
              "      <th>2</th>\n",
              "      <td>3.2</td>\n",
              "      <td>27</td>\n",
              "    </tr>\n",
              "    <tr>\n",
              "      <th>3</th>\n",
              "      <td>8.5</td>\n",
              "      <td>75</td>\n",
              "    </tr>\n",
              "    <tr>\n",
              "      <th>4</th>\n",
              "      <td>3.5</td>\n",
              "      <td>30</td>\n",
              "    </tr>\n",
              "  </tbody>\n",
              "</table>\n",
              "</div>"
            ],
            "text/plain": [
              "   Hours  Scores\n",
              "0    2.5      21\n",
              "1    5.1      47\n",
              "2    3.2      27\n",
              "3    8.5      75\n",
              "4    3.5      30"
            ]
          },
          "metadata": {
            "tags": []
          },
          "execution_count": 20
        }
      ]
    },
    {
      "cell_type": "code",
      "metadata": {
        "colab": {
          "base_uri": "https://localhost:8080/",
          "height": 295
        },
        "id": "v9kHalMebC8g",
        "outputId": "13e1e058-c59d-4ee1-8e51-cb9d0ef26797"
      },
      "source": [
        "#Visualizing the data\n",
        "sns. scatterplot( x='Hours', y='Scores', data = data)\n",
        "plt. title('Hours vs Percentage')\n",
        "plt. xlabel('Hours Studied')\n",
        "plt. ylabel(' Percentage Score')\n",
        "plt.grid()\n",
        "plt.show()"
      ],
      "execution_count": null,
      "outputs": [
        {
          "output_type": "display_data",
          "data": {
            "image/png": "[encoded data removed]",
            "text/plain": [
              "<Figure size 432x288 with 1 Axes>"
            ]
          },
          "metadata": {
            "tags": [],
            "needs_background": "light"
          }
        }
      ]
    },
    {
      "cell_type": "markdown",
      "metadata": {
        "id": "lMSb4BYycSwc"
      },
      "source": [
        "**From the graph above, we can clearly see that there is a Positive Linear Relation between the Number of Hours Studied and  Percentage of Score.**\n",
        "\n",
        "The next step is to divide the data into \"attributes\" (inputs) and \"labels\"(outputs)."
      ]
    },
    {
      "cell_type": "code",
      "metadata": {
        "id": "yrL6BWm1cop6"
      },
      "source": [
        "#Preparing the data\n",
        "from sklearn.model_selection import train_test_split \n",
        "X = data.iloc[:, :-1].values \n",
        "y = data.iloc[:, 1].values"
      ],
      "execution_count": null,
      "outputs": []
    },
    {
      "cell_type": "markdown",
      "metadata": {
        "id": "jaWj3zbHdfbl"
      },
      "source": [
        "Now that we have our attributes and labels, the next step is to split this data into training and test sets. We'll do this by using Scikit-Learn's built-in train_test_split() method:"
      ]
    },
    {
      "cell_type": "code",
      "metadata": {
        "colab": {
          "base_uri": "https://localhost:8080/"
        },
        "id": "XsWqfTKp_TNy",
        "outputId": "93e10bbf-16e8-423a-bb96-60892996b0d6"
      },
      "source": [
        "from sklearn.model_selection import train_test_split  \n",
        "X_train, X_test, y_train, y_test = train_test_split(X, y, test_size=0.2, random_state=0) \n",
        "print(X_train.shape)\n",
        "print(X_test.shape)\n",
        "print(y_train.shape)\n",
        "print(y_test.shape)"
      ],
      "execution_count": null,
      "outputs": [
        {
          "output_type": "stream",
          "text": [
            "(20, 1)\n",
            "(5, 1)\n",
            "(20,)\n",
            "(5,)\n"
          ],
          "name": "stdout"
        }
      ]
    },
    {
      "cell_type": "markdown",
      "metadata": {
        "id": "HRO55oE9etfV"
      },
      "source": [
        "**Training the Algorithm**\n",
        "\n",
        "We have split our data into training and testing sets, and now is finally the time to train our algorithm. "
      ]
    },
    {
      "cell_type": "code",
      "metadata": {
        "colab": {
          "base_uri": "https://localhost:8080/"
        },
        "id": "N07Zk609_4dL",
        "outputId": "84e99ad3-82cf-4cf1-b9dc-a10ec1520f21"
      },
      "source": [
        "from sklearn.linear_model import LinearRegression  \n",
        "regressor = LinearRegression()  \n",
        "regressor.fit(X_train, y_train) \n",
        "coeff = regressor.coef_\n",
        "print(f'The coefficient is {coeff}')\n",
        "\n",
        "intercept = regressor.intercept_\n",
        "print(f'The intercept is {intercept}')\n",
        "\n",
        "print(\"Training complete.\")"
      ],
      "execution_count": null,
      "outputs": [
        {
          "output_type": "stream",
          "text": [
            "The coefficient is [9.91065648]\n",
            "The intercept is 2.018160041434662\n",
            "Training complete.\n"
          ],
          "name": "stdout"
        }
      ]
    },
    {
      "cell_type": "code",
      "metadata": {
        "colab": {
          "base_uri": "https://localhost:8080/",
          "height": 265
        },
        "id": "riKjdE1kAaV1",
        "outputId": "891d8a04-235a-431f-ea18-5076418ae759"
      },
      "source": [
        "#Plotting the regression line\n",
        "line = regressor.coef_*X+regressor.intercept_\n",
        "\n",
        "#Plotting for the test data\n",
        "plt.scatter(X, y)\n",
        "plt.plot(X, line, color='m')\n",
        "plt.show()"
      ],
      "execution_count": null,
      "outputs": [
        {
          "output_type": "display_data",
          "data": {
            "image/png": "[encoded data removed]",
            "text/plain": [
              "<Figure size 432x288 with 1 Axes>"
            ]
          },
          "metadata": {
            "tags": [],
            "needs_background": "light"
          }
        }
      ]
    },
    {
      "cell_type": "markdown",
      "metadata": {
        "id": "Os8cN8Y2A55p"
      },
      "source": [
        "**MAKING PREDICTIONS**\n",
        "\n",
        "Now that we have trained our algorithm, it's time to make some predictions."
      ]
    },
    {
      "cell_type": "code",
      "metadata": {
        "colab": {
          "base_uri": "https://localhost:8080/"
        },
        "id": "dbpgkAbFBCWf",
        "outputId": "cef0922b-e54a-446f-badb-b46e7ed94de4"
      },
      "source": [
        "print(X_test)  #Testing data - in Hours\n",
        "y_pred = regressor.predict(X_test)  #Predicting the Scores"
      ],
      "execution_count": null,
      "outputs": [
        {
          "output_type": "stream",
          "text": [
            "[[1.5]\n",
            " [3.2]\n",
            " [7.4]\n",
            " [2.5]\n",
            " [5.9]]\n"
          ],
          "name": "stdout"
        }
      ]
    },
    {
      "cell_type": "code",
      "metadata": {
        "colab": {
          "base_uri": "https://localhost:8080/",
          "height": 265
        },
        "id": "SzTt56GuBe05",
        "outputId": "b385cab6-87a8-419b-bde9-ae29fae6d5a6"
      },
      "source": [
        "#Comparing Actual vs Predicted\n",
        "df = pd.DataFrame({'Actual': y_test, 'Predicted': y_pred})  \n",
        "df.plot(kind='bar')\n",
        "plt.xticks(rotation=0)\n",
        "plt.show()"
      ],
      "execution_count": null,
      "outputs": [
        {
          "output_type": "display_data",
          "data": {
            "image/png": "[encoded data removed]",
            "text/plain": [
              "<Figure size 432x288 with 1 Axes>"
            ]
          },
          "metadata": {
            "tags": [],
            "needs_background": "light"
          }
        }
      ]
    },
    {
      "cell_type": "code",
      "metadata": {
        "colab": {
          "base_uri": "https://localhost:8080/"
        },
        "id": "Z6ok-ZLUCIE6",
        "outputId": "d2b98124-7f34-4370-8e49-6836ece324c6"
      },
      "source": [
        "#Predicting the score with our own data\n",
        "hours = 7.25\n",
        "pred = regressor.predict([[hours]])\n",
        "print(f\"No of Hours = {hours}\")\n",
        "print(f\"Predicted Score = {pred[0]}\")"
      ],
      "execution_count": null,
      "outputs": [
        {
          "output_type": "stream",
          "text": [
            "No of Hours = 7.25\n",
            "Predicted Score = 73.8704195260909\n"
          ],
          "name": "stdout"
        }
      ]
    },
    {
      "cell_type": "markdown",
      "metadata": {
        "id": "f3cJHyFMDDJX"
      },
      "source": [
        "**EVALUATING THE MODEL**\n",
        "\n",
        "The final step is to evaluate the performance of algorithm. This step is particularly important to compare how well different algorithms perform on a particular dataset. "
      ]
    },
    {
      "cell_type": "code",
      "metadata": {
        "colab": {
          "base_uri": "https://localhost:8080/"
        },
        "id": "J-R3eI0DDRIG",
        "outputId": "c8962286-bdd7-4427-cb0b-f4c407b3f162"
      },
      "source": [
        "from sklearn import metrics  \n",
        "print(f'Mean Absolute Error: {metrics.mean_absolute_error(y_test, y_pred)}') \n",
        "print(f'Mean Squared Error: {metrics.mean_squared_error(y_test, y_pred)}') \n",
        "print(f'Root Mean Squared Error: {np.sqrt(metrics.mean_squared_error(y_test, y_pred))}')"
      ],
      "execution_count": null,
      "outputs": [
        {
          "output_type": "stream",
          "text": [
            "Mean Absolute Error: 4.183859899002982\n",
            "Mean Squared Error: 21.598769307217456\n",
            "Root Mean Squared Error: 4.647447612100373\n"
          ],
          "name": "stdout"
        }
      ]
    }
  ]
}